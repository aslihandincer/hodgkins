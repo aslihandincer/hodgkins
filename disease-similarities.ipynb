{
 "cells": [
  {
   "cell_type": "code",
   "execution_count": 22,
   "metadata": {
    "collapsed": true
   },
   "outputs": [],
   "source": [
    "import math\n",
    "import itertools\n",
    "\n",
    "import numpy\n",
    "import pandas\n",
    "import xray"
   ]
  },
  {
   "cell_type": "code",
   "execution_count": 23,
   "metadata": {
    "collapsed": true
   },
   "outputs": [],
   "source": [
    "doid_exclusions = {\n",
    "    'DOID:0050589', # inflammatory bowel disease because redundant with UC and Crohn's\n",
    "    'DOID:2914', # immune system disease because it is non-specific\n",
    "}"
   ]
  },
  {
   "cell_type": "code",
   "execution_count": 24,
   "metadata": {
    "collapsed": true
   },
   "outputs": [],
   "source": [
    "def overlaps(locus_0, locus_1):\n",
    "    \"\"\"\n",
    "    Returns wether two genomic regions (loci) overlap.\n",
    "    Loci are (chromosome, lower_coordinate, upper_coordinate) tuples.\n",
    "    \"\"\"\n",
    "    chrom_0, lower_0, upper_0 = locus_0\n",
    "    chrom_1, lower_1, upper_1 = locus_1\n",
    "    if chrom_0 != chrom_1:\n",
    "        return False\n",
    "    return min(upper_0, upper_1) >= max(lower_0, lower_1)"
   ]
  },
  {
   "cell_type": "code",
   "execution_count": 25,
   "metadata": {
    "collapsed": false
   },
   "outputs": [],
   "source": [
    "# Read associations from GWAS catalog\n",
    "url = 'https://raw.githubusercontent.com/dhimmel/gwas-catalog/a5aa4910708a3995501ebe4136d8b9d601463fa1/data/snp-associations.tsv'\n",
    "snp_df = pandas.read_table(url)\n",
    "snp_df = snp_df[-snp_df.doid_code.isin(doid_exclusions)]\n",
    "\n",
    "# Check that coordinates are well-formed\n",
    "assert all(snp_df.lower_coord <= snp_df.upper_coord)"
   ]
  },
  {
   "cell_type": "code",
   "execution_count": 26,
   "metadata": {
    "collapsed": false
   },
   "outputs": [],
   "source": [
    "# Restrict to high-confidence associations\n",
    "snp_df = snp_df[snp_df.mlog_pvalue >= -math.log10(5e-8)]\n",
    "snp_df = snp_df[snp_df.samples >= 1000]"
   ]
  },
  {
   "cell_type": "code",
   "execution_count": 27,
   "metadata": {
    "collapsed": false
   },
   "outputs": [],
   "source": [
    "# Single association per locus\n",
    "snp_df = snp_df.drop_duplicates(['doid_code', 'locus'])\n",
    "snp_df = snp_df[['doid_code', 'doid_name', 'lead_chrom', 'lower_coord', 'upper_coord']]\n",
    "snp_df.to_csv('data/loci.tsv', sep='\\t', index=False)"
   ]
  },
  {
   "cell_type": "code",
   "execution_count": 28,
   "metadata": {
    "collapsed": false
   },
   "outputs": [],
   "source": [
    "# Calculate loci per disease\n",
    "count_df = snp_df.groupby(['doid_code', 'doid_name']).apply(lambda df: pandas.Series({'count': len(df)}))\n",
    "count_df = count_df.reset_index().sort('count', ascending=False)\n",
    "count_df.to_csv('data/loci-counts.tsv', sep='\\t', index=False)\n",
    "\n",
    "# Filter diseases without at least 3 associations\n",
    "doid_ids = sorted(count_df.doid_code[count_df['count'] >= 3])\n",
    "snp_df = snp_df[snp_df.doid_code.isin(doid_ids)]"
   ]
  },
  {
   "cell_type": "code",
   "execution_count": 29,
   "metadata": {
    "collapsed": false
   },
   "outputs": [],
   "source": [
    "# Count the number of overlaping loci per locus\n",
    "snp_df['locus_tuple'] = [tuple(row) for i, row in snp_df[['lead_chrom', 'lower_coord', 'upper_coord']].iterrows()]\n",
    "locus_to_count = dict()\n",
    "for locus in set(snp_df.locus_tuple):\n",
    "    count = sum(overlaps(locus, l) for l in snp_df.locus_tuple)\n",
    "    locus_to_count[locus] = count"
   ]
  },
  {
   "cell_type": "code",
   "execution_count": 30,
   "metadata": {
    "collapsed": false
   },
   "outputs": [],
   "source": [
    "# Compute disease-disease similarities\n",
    "dice_df = pandas.DataFrame(index=doid_ids, columns=doid_ids)\n",
    "dice_df.index.name = 'doid_id'\n",
    "\n",
    "for group_0, group_1 in itertools.product(snp_df.groupby(['doid_code', 'doid_name']), repeat=2):\n",
    "    (doid_id_0, doid_name_0), df_0 = group_0\n",
    "    (doid_id_1, doid_name_1), df_1 = group_1\n",
    "    shared = list()\n",
    "    for locus in df_0.locus_tuple:\n",
    "        if any(overlaps(locus, l) for l in df_1.locus_tuple):\n",
    "            shared.append(locus)\n",
    "    total = list(df_0.locus_tuple) + list(df_1.locus_tuple)\n",
    "    dice = 2.0 * len(shared) / len(total)\n",
    "    weight = lambda x: locus_to_count[x] ** 0.5\n",
    "    dice_weighted = 2.0 * sum(map(weight, shared)) / sum(map(weight, total))\n",
    "    dice_df.loc[doid_id_0, doid_id_1] = round(dice_weighted, 6)"
   ]
  },
  {
   "cell_type": "code",
   "execution_count": 31,
   "metadata": {
    "collapsed": false
   },
   "outputs": [],
   "source": [
    "# Save similarities to tsv\n",
    "dice_df.reset_index().to_csv('data/disease-similarity.tsv', index=False, sep='\\t', float_format='%.5f')"
   ]
  },
  {
   "cell_type": "code",
   "execution_count": 32,
   "metadata": {
    "collapsed": false
   },
   "outputs": [
    {
     "data": {
      "text/html": [
       "<div>\n",
       "<table border=\"1\" class=\"dataframe\">\n",
       "  <thead>\n",
       "    <tr style=\"text-align: right;\">\n",
       "      <th></th>\n",
       "      <th>DOID:0050156</th>\n",
       "      <th>DOID:0050425</th>\n",
       "      <th>DOID:0050741</th>\n",
       "      <th>DOID:1024</th>\n",
       "      <th>DOID:10286</th>\n",
       "      <th>DOID:1040</th>\n",
       "      <th>DOID:10608</th>\n",
       "      <th>DOID:10652</th>\n",
       "      <th>DOID:1067</th>\n",
       "      <th>DOID:10763</th>\n",
       "      <th>...</th>\n",
       "      <th>DOID:9074</th>\n",
       "      <th>DOID:9206</th>\n",
       "      <th>DOID:9296</th>\n",
       "      <th>DOID:9352</th>\n",
       "      <th>DOID:9538</th>\n",
       "      <th>DOID:9744</th>\n",
       "      <th>DOID:9835</th>\n",
       "      <th>DOID:986</th>\n",
       "      <th>DOID:9952</th>\n",
       "      <th>DOID:9970</th>\n",
       "    </tr>\n",
       "    <tr>\n",
       "      <th>doid_id</th>\n",
       "      <th></th>\n",
       "      <th></th>\n",
       "      <th></th>\n",
       "      <th></th>\n",
       "      <th></th>\n",
       "      <th></th>\n",
       "      <th></th>\n",
       "      <th></th>\n",
       "      <th></th>\n",
       "      <th></th>\n",
       "      <th></th>\n",
       "      <th></th>\n",
       "      <th></th>\n",
       "      <th></th>\n",
       "      <th></th>\n",
       "      <th></th>\n",
       "      <th></th>\n",
       "      <th></th>\n",
       "      <th></th>\n",
       "      <th></th>\n",
       "      <th></th>\n",
       "    </tr>\n",
       "  </thead>\n",
       "  <tbody>\n",
       "    <tr>\n",
       "      <th>DOID:0050156</th>\n",
       "      <td>1</td>\n",
       "      <td>0</td>\n",
       "      <td>0</td>\n",
       "      <td>0</td>\n",
       "      <td>0.064674</td>\n",
       "      <td>0</td>\n",
       "      <td>0</td>\n",
       "      <td>0</td>\n",
       "      <td>0</td>\n",
       "      <td>0</td>\n",
       "      <td>...</td>\n",
       "      <td>0</td>\n",
       "      <td>0</td>\n",
       "      <td>0</td>\n",
       "      <td>0</td>\n",
       "      <td>0</td>\n",
       "      <td>0</td>\n",
       "      <td>0</td>\n",
       "      <td>0</td>\n",
       "      <td>0</td>\n",
       "      <td>0</td>\n",
       "    </tr>\n",
       "    <tr>\n",
       "      <th>DOID:0050425</th>\n",
       "      <td>0</td>\n",
       "      <td>1</td>\n",
       "      <td>0</td>\n",
       "      <td>0</td>\n",
       "      <td>0</td>\n",
       "      <td>0</td>\n",
       "      <td>0</td>\n",
       "      <td>0</td>\n",
       "      <td>0</td>\n",
       "      <td>0</td>\n",
       "      <td>...</td>\n",
       "      <td>0</td>\n",
       "      <td>0</td>\n",
       "      <td>0</td>\n",
       "      <td>0</td>\n",
       "      <td>0</td>\n",
       "      <td>0</td>\n",
       "      <td>0</td>\n",
       "      <td>0</td>\n",
       "      <td>0</td>\n",
       "      <td>0</td>\n",
       "    </tr>\n",
       "    <tr>\n",
       "      <th>DOID:0050741</th>\n",
       "      <td>0</td>\n",
       "      <td>0</td>\n",
       "      <td>1</td>\n",
       "      <td>0</td>\n",
       "      <td>0</td>\n",
       "      <td>0</td>\n",
       "      <td>0</td>\n",
       "      <td>0</td>\n",
       "      <td>0</td>\n",
       "      <td>0</td>\n",
       "      <td>...</td>\n",
       "      <td>0</td>\n",
       "      <td>0</td>\n",
       "      <td>0</td>\n",
       "      <td>0</td>\n",
       "      <td>0</td>\n",
       "      <td>0</td>\n",
       "      <td>0</td>\n",
       "      <td>0</td>\n",
       "      <td>0</td>\n",
       "      <td>0</td>\n",
       "    </tr>\n",
       "    <tr>\n",
       "      <th>DOID:1024</th>\n",
       "      <td>0</td>\n",
       "      <td>0</td>\n",
       "      <td>0</td>\n",
       "      <td>1</td>\n",
       "      <td>0</td>\n",
       "      <td>0</td>\n",
       "      <td>0</td>\n",
       "      <td>0</td>\n",
       "      <td>0</td>\n",
       "      <td>0</td>\n",
       "      <td>...</td>\n",
       "      <td>0</td>\n",
       "      <td>0</td>\n",
       "      <td>0</td>\n",
       "      <td>0</td>\n",
       "      <td>0</td>\n",
       "      <td>0</td>\n",
       "      <td>0</td>\n",
       "      <td>0</td>\n",
       "      <td>0</td>\n",
       "      <td>0</td>\n",
       "    </tr>\n",
       "    <tr>\n",
       "      <th>DOID:10286</th>\n",
       "      <td>0.059039</td>\n",
       "      <td>0</td>\n",
       "      <td>0</td>\n",
       "      <td>0</td>\n",
       "      <td>1</td>\n",
       "      <td>0.032898</td>\n",
       "      <td>0</td>\n",
       "      <td>0.026408</td>\n",
       "      <td>0</td>\n",
       "      <td>0</td>\n",
       "      <td>...</td>\n",
       "      <td>0</td>\n",
       "      <td>0</td>\n",
       "      <td>0.053271</td>\n",
       "      <td>0.049143</td>\n",
       "      <td>0</td>\n",
       "      <td>0.020584</td>\n",
       "      <td>0</td>\n",
       "      <td>0</td>\n",
       "      <td>0</td>\n",
       "      <td>0</td>\n",
       "    </tr>\n",
       "  </tbody>\n",
       "</table>\n",
       "<p>5 rows × 90 columns</p>\n",
       "</div>"
      ],
      "text/plain": [
       "             DOID:0050156 DOID:0050425 DOID:0050741 DOID:1024 DOID:10286  \\\n",
       "doid_id                                                                    \n",
       "DOID:0050156            1            0            0         0   0.064674   \n",
       "DOID:0050425            0            1            0         0          0   \n",
       "DOID:0050741            0            0            1         0          0   \n",
       "DOID:1024               0            0            0         1          0   \n",
       "DOID:10286       0.059039            0            0         0          1   \n",
       "\n",
       "             DOID:1040 DOID:10608 DOID:10652 DOID:1067 DOID:10763    ...     \\\n",
       "doid_id                                                              ...      \n",
       "DOID:0050156         0          0          0         0          0    ...      \n",
       "DOID:0050425         0          0          0         0          0    ...      \n",
       "DOID:0050741         0          0          0         0          0    ...      \n",
       "DOID:1024            0          0          0         0          0    ...      \n",
       "DOID:10286    0.032898          0   0.026408         0          0    ...      \n",
       "\n",
       "             DOID:9074 DOID:9206 DOID:9296 DOID:9352 DOID:9538 DOID:9744  \\\n",
       "doid_id                                                                    \n",
       "DOID:0050156         0         0         0         0         0         0   \n",
       "DOID:0050425         0         0         0         0         0         0   \n",
       "DOID:0050741         0         0         0         0         0         0   \n",
       "DOID:1024            0         0         0         0         0         0   \n",
       "DOID:10286           0         0  0.053271  0.049143         0  0.020584   \n",
       "\n",
       "             DOID:9835 DOID:986 DOID:9952 DOID:9970  \n",
       "doid_id                                              \n",
       "DOID:0050156         0        0         0         0  \n",
       "DOID:0050425         0        0         0         0  \n",
       "DOID:0050741         0        0         0         0  \n",
       "DOID:1024            0        0         0         0  \n",
       "DOID:10286           0        0         0         0  \n",
       "\n",
       "[5 rows x 90 columns]"
      ]
     },
     "execution_count": 32,
     "metadata": {},
     "output_type": "execute_result"
    }
   ],
   "source": [
    "dice_df.head()"
   ]
  }
 ],
 "metadata": {
  "kernelspec": {
   "display_name": "Python 3",
   "language": "python",
   "name": "python3"
  },
  "language_info": {
   "codemirror_mode": {
    "name": "ipython",
    "version": 3
   },
   "file_extension": ".py",
   "mimetype": "text/x-python",
   "name": "python",
   "nbconvert_exporter": "python",
   "pygments_lexer": "ipython3",
   "version": "3.4.3"
  }
 },
 "nbformat": 4,
 "nbformat_minor": 0
}
