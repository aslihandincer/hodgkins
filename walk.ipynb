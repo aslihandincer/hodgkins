{
 "cells": [
  {
   "cell_type": "code",
   "execution_count": 161,
   "metadata": {
    "collapsed": true
   },
   "outputs": [],
   "source": [
    "import numpy\n",
    "import pandas\n",
    "\n",
    "import rwwr"
   ]
  },
  {
   "cell_type": "code",
   "execution_count": 162,
   "metadata": {
    "collapsed": true
   },
   "outputs": [],
   "source": [
    "# restart probability\n",
    "r = 0.2"
   ]
  },
  {
   "cell_type": "code",
   "execution_count": 163,
   "metadata": {
    "collapsed": false
   },
   "outputs": [
    {
     "data": {
      "text/plain": [
       "92"
      ]
     },
     "execution_count": 163,
     "metadata": {},
     "output_type": "execute_result"
    }
   ],
   "source": [
    "# Read genetic overlap between diseases\n",
    "dice_df = pandas.read_table('data/disease-similarity.tsv', index_col=0)\n",
    "len(dice_df)"
   ]
  },
  {
   "cell_type": "code",
   "execution_count": 164,
   "metadata": {
    "collapsed": false
   },
   "outputs": [
    {
     "data": {
      "text/plain": [
       "84"
      ]
     },
     "execution_count": 164,
     "metadata": {},
     "output_type": "execute_result"
    }
   ],
   "source": [
    "# Filter diseases without any similarity\n",
    "doid_ids = dice_df.columns[(dice_df > 0).sum() > 1]\n",
    "dice_df = dice_df.loc[doid_ids, doid_ids]\n",
    "len(dice_df)"
   ]
  },
  {
   "cell_type": "code",
   "execution_count": 165,
   "metadata": {
    "collapsed": false
   },
   "outputs": [],
   "source": [
    "# Run random walk for each disease\n",
    "rows = list()\n",
    "\n",
    "for doid_id in dice_df.columns:\n",
    "    df = dice_df.copy()\n",
    "    df = df.drop(doid_id, axis=0) # drop row\n",
    "    seed = df[doid_id]\n",
    "    df = df.drop(doid_id, axis=1) # drop column\n",
    "    mat = df.as_matrix()\n",
    "    probs, steps = rwwr.walk(r, seed, mat)\n",
    "    rows.extend(zip([doid_id] * len(df), df.columns, probs))\n",
    "\n",
    "rw_df = pandas.DataFrame(rows, columns=['source_id', 'target_id', 'proximity'])"
   ]
  },
  {
   "cell_type": "code",
   "execution_count": 166,
   "metadata": {
    "collapsed": false
   },
   "outputs": [],
   "source": [
    "# Add Disease Ontology names\n",
    "url = 'https://raw.githubusercontent.com/dhimmel/disease-ontology/72614ade9f1cc5a5317b8f6836e1e464b31d5587/data/term-names.tsv'\n",
    "doid_df = pandas.read_table(url).query(\"type == 'name'\").drop('type', 1)\n",
    "s_df = doid_df.rename(columns={'doid': 'source_id', 'name': 'source_name'})\n",
    "t_df = doid_df.rename(columns={'doid': 'target_id', 'name': 'target_name'})\n",
    "rw_df = s_df.merge(t_df.merge(rw_df))"
   ]
  },
  {
   "cell_type": "code",
   "execution_count": 167,
   "metadata": {
    "collapsed": false
   },
   "outputs": [],
   "source": [
    "# Sort by disease_name and proximity\n",
    "rw_df = rw_df.sort(['source_name', 'proximity'], ascending=[True, False])\n",
    "# Save as a tsv\n",
    "rw_df.to_csv('data/proximities.tsv', sep='\\t', index=False, float_format='%.6f')"
   ]
  },
  {
   "cell_type": "code",
   "execution_count": 168,
   "metadata": {
    "collapsed": false
   },
   "outputs": [
    {
     "data": {
      "text/html": [
       "<div>\n",
       "<table border=\"1\" class=\"dataframe\">\n",
       "  <thead>\n",
       "    <tr style=\"text-align: right;\">\n",
       "      <th></th>\n",
       "      <th>source_id</th>\n",
       "      <th>source_name</th>\n",
       "      <th>target_id</th>\n",
       "      <th>target_name</th>\n",
       "      <th>proximity</th>\n",
       "    </tr>\n",
       "  </thead>\n",
       "  <tbody>\n",
       "    <tr>\n",
       "      <th>1464</th>\n",
       "      <td>DOID:2377</td>\n",
       "      <td>multiple sclerosis</td>\n",
       "      <td>DOID:0050589</td>\n",
       "      <td>inflammatory bowel disease</td>\n",
       "      <td>0.054966</td>\n",
       "    </tr>\n",
       "    <tr>\n",
       "      <th>1445</th>\n",
       "      <td>DOID:2377</td>\n",
       "      <td>multiple sclerosis</td>\n",
       "      <td>DOID:10608</td>\n",
       "      <td>celiac disease</td>\n",
       "      <td>0.052474</td>\n",
       "    </tr>\n",
       "    <tr>\n",
       "      <th>1419</th>\n",
       "      <td>DOID:2377</td>\n",
       "      <td>multiple sclerosis</td>\n",
       "      <td>DOID:8778</td>\n",
       "      <td>Crohn's disease</td>\n",
       "      <td>0.050761</td>\n",
       "    </tr>\n",
       "    <tr>\n",
       "      <th>1490</th>\n",
       "      <td>DOID:2377</td>\n",
       "      <td>multiple sclerosis</td>\n",
       "      <td>DOID:2841</td>\n",
       "      <td>asthma</td>\n",
       "      <td>0.050183</td>\n",
       "    </tr>\n",
       "    <tr>\n",
       "      <th>1493</th>\n",
       "      <td>DOID:2377</td>\n",
       "      <td>multiple sclerosis</td>\n",
       "      <td>DOID:9744</td>\n",
       "      <td>type 1 diabetes mellitus</td>\n",
       "      <td>0.046992</td>\n",
       "    </tr>\n",
       "    <tr>\n",
       "      <th>1438</th>\n",
       "      <td>DOID:2377</td>\n",
       "      <td>multiple sclerosis</td>\n",
       "      <td>DOID:8577</td>\n",
       "      <td>ulcerative colitis</td>\n",
       "      <td>0.044306</td>\n",
       "    </tr>\n",
       "    <tr>\n",
       "      <th>1429</th>\n",
       "      <td>DOID:2377</td>\n",
       "      <td>multiple sclerosis</td>\n",
       "      <td>DOID:7148</td>\n",
       "      <td>rheumatoid arthritis</td>\n",
       "      <td>0.040536</td>\n",
       "    </tr>\n",
       "    <tr>\n",
       "      <th>1443</th>\n",
       "      <td>DOID:2377</td>\n",
       "      <td>multiple sclerosis</td>\n",
       "      <td>DOID:4481</td>\n",
       "      <td>allergic rhinitis</td>\n",
       "      <td>0.038726</td>\n",
       "    </tr>\n",
       "    <tr>\n",
       "      <th>1441</th>\n",
       "      <td>DOID:2377</td>\n",
       "      <td>multiple sclerosis</td>\n",
       "      <td>DOID:12236</td>\n",
       "      <td>primary biliary cirrhosis</td>\n",
       "      <td>0.036850</td>\n",
       "    </tr>\n",
       "    <tr>\n",
       "      <th>1488</th>\n",
       "      <td>DOID:2377</td>\n",
       "      <td>multiple sclerosis</td>\n",
       "      <td>DOID:9074</td>\n",
       "      <td>systemic lupus erythematosus</td>\n",
       "      <td>0.031171</td>\n",
       "    </tr>\n",
       "    <tr>\n",
       "      <th>1457</th>\n",
       "      <td>DOID:2377</td>\n",
       "      <td>multiple sclerosis</td>\n",
       "      <td>DOID:8893</td>\n",
       "      <td>psoriasis</td>\n",
       "      <td>0.028984</td>\n",
       "    </tr>\n",
       "    <tr>\n",
       "      <th>1428</th>\n",
       "      <td>DOID:2377</td>\n",
       "      <td>multiple sclerosis</td>\n",
       "      <td>DOID:7147</td>\n",
       "      <td>ankylosing spondylitis</td>\n",
       "      <td>0.028896</td>\n",
       "    </tr>\n",
       "    <tr>\n",
       "      <th>1436</th>\n",
       "      <td>DOID:2377</td>\n",
       "      <td>multiple sclerosis</td>\n",
       "      <td>DOID:12306</td>\n",
       "      <td>vitiligo</td>\n",
       "      <td>0.027672</td>\n",
       "    </tr>\n",
       "    <tr>\n",
       "      <th>1451</th>\n",
       "      <td>DOID:2377</td>\n",
       "      <td>multiple sclerosis</td>\n",
       "      <td>DOID:2986</td>\n",
       "      <td>IgA glomerulonephritis</td>\n",
       "      <td>0.023597</td>\n",
       "    </tr>\n",
       "    <tr>\n",
       "      <th>1492</th>\n",
       "      <td>DOID:2377</td>\n",
       "      <td>multiple sclerosis</td>\n",
       "      <td>DOID:3905</td>\n",
       "      <td>lung carcinoma</td>\n",
       "      <td>0.023544</td>\n",
       "    </tr>\n",
       "  </tbody>\n",
       "</table>\n",
       "</div>"
      ],
      "text/plain": [
       "      source_id         source_name     target_id  \\\n",
       "1464  DOID:2377  multiple sclerosis  DOID:0050589   \n",
       "1445  DOID:2377  multiple sclerosis    DOID:10608   \n",
       "1419  DOID:2377  multiple sclerosis     DOID:8778   \n",
       "1490  DOID:2377  multiple sclerosis     DOID:2841   \n",
       "1493  DOID:2377  multiple sclerosis     DOID:9744   \n",
       "1438  DOID:2377  multiple sclerosis     DOID:8577   \n",
       "1429  DOID:2377  multiple sclerosis     DOID:7148   \n",
       "1443  DOID:2377  multiple sclerosis     DOID:4481   \n",
       "1441  DOID:2377  multiple sclerosis    DOID:12236   \n",
       "1488  DOID:2377  multiple sclerosis     DOID:9074   \n",
       "1457  DOID:2377  multiple sclerosis     DOID:8893   \n",
       "1428  DOID:2377  multiple sclerosis     DOID:7147   \n",
       "1436  DOID:2377  multiple sclerosis    DOID:12306   \n",
       "1451  DOID:2377  multiple sclerosis     DOID:2986   \n",
       "1492  DOID:2377  multiple sclerosis     DOID:3905   \n",
       "\n",
       "                       target_name  proximity  \n",
       "1464    inflammatory bowel disease   0.054966  \n",
       "1445                celiac disease   0.052474  \n",
       "1419               Crohn's disease   0.050761  \n",
       "1490                        asthma   0.050183  \n",
       "1493      type 1 diabetes mellitus   0.046992  \n",
       "1438            ulcerative colitis   0.044306  \n",
       "1429          rheumatoid arthritis   0.040536  \n",
       "1443             allergic rhinitis   0.038726  \n",
       "1441     primary biliary cirrhosis   0.036850  \n",
       "1488  systemic lupus erythematosus   0.031171  \n",
       "1457                     psoriasis   0.028984  \n",
       "1428        ankylosing spondylitis   0.028896  \n",
       "1436                      vitiligo   0.027672  \n",
       "1451        IgA glomerulonephritis   0.023597  \n",
       "1492                lung carcinoma   0.023544  "
      ]
     },
     "execution_count": 168,
     "metadata": {},
     "output_type": "execute_result"
    }
   ],
   "source": [
    "# Top MS proximities\n",
    "rw_df.query(\"source_name == 'multiple sclerosis'\").head(15)"
   ]
  }
 ],
 "metadata": {
  "kernelspec": {
   "display_name": "Python 3",
   "language": "python",
   "name": "python3"
  },
  "language_info": {
   "codemirror_mode": {
    "name": "ipython",
    "version": 3
   },
   "file_extension": ".py",
   "mimetype": "text/x-python",
   "name": "python",
   "nbconvert_exporter": "python",
   "pygments_lexer": "ipython3",
   "version": "3.4.3"
  }
 },
 "nbformat": 4,
 "nbformat_minor": 0
}
