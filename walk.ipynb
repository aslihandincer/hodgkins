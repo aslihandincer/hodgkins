{
 "cells": [
  {
   "cell_type": "code",
   "execution_count": 1,
   "metadata": {
    "collapsed": true
   },
   "outputs": [],
   "source": [
    "import numpy\n",
    "import pandas\n",
    "\n",
    "import rwwr"
   ]
  },
  {
   "cell_type": "code",
   "execution_count": 2,
   "metadata": {
    "collapsed": true
   },
   "outputs": [],
   "source": [
    "# restart probability\n",
    "r = 0.2"
   ]
  },
  {
   "cell_type": "code",
   "execution_count": 3,
   "metadata": {
    "collapsed": false
   },
   "outputs": [
    {
     "data": {
      "text/plain": [
       "90"
      ]
     },
     "execution_count": 3,
     "metadata": {},
     "output_type": "execute_result"
    }
   ],
   "source": [
    "# Read genetic overlap between diseases\n",
    "dice_df = pandas.read_table('data/disease-similarity.tsv', index_col=0)\n",
    "len(dice_df)"
   ]
  },
  {
   "cell_type": "code",
   "execution_count": 4,
   "metadata": {
    "collapsed": false
   },
   "outputs": [
    {
     "data": {
      "text/plain": [
       "82"
      ]
     },
     "execution_count": 4,
     "metadata": {},
     "output_type": "execute_result"
    }
   ],
   "source": [
    "# Filter diseases without any similarity\n",
    "doid_ids = dice_df.columns[(dice_df > 0).sum() > 1]\n",
    "dice_df = dice_df.loc[doid_ids, doid_ids]\n",
    "len(dice_df)"
   ]
  },
  {
   "cell_type": "code",
   "execution_count": 5,
   "metadata": {
    "collapsed": false
   },
   "outputs": [],
   "source": [
    "# Run random walk for each disease\n",
    "rows = list()\n",
    "\n",
    "for doid_id in dice_df.columns:\n",
    "    df = dice_df.copy()\n",
    "    df = df.drop(doid_id, axis=0) # drop row\n",
    "    seed = df[doid_id]\n",
    "    df = df.drop(doid_id, axis=1) # drop column\n",
    "    mat = df.as_matrix()\n",
    "    probs, steps = rwwr.walk(r, seed, mat)\n",
    "    rows.extend(zip([doid_id] * len(df), df.columns, probs))\n",
    "\n",
    "rw_df = pandas.DataFrame(rows, columns=['source_id', 'target_id', 'proximity'])"
   ]
  },
  {
   "cell_type": "code",
   "execution_count": 6,
   "metadata": {
    "collapsed": false
   },
   "outputs": [],
   "source": [
    "# Add Disease Ontology names\n",
    "url = 'https://raw.githubusercontent.com/dhimmel/disease-ontology/72614ade9f1cc5a5317b8f6836e1e464b31d5587/data/term-names.tsv'\n",
    "doid_df = pandas.read_table(url).query(\"type == 'name'\").drop('type', 1)\n",
    "s_df = doid_df.rename(columns={'doid': 'source_id', 'name': 'source_name'})\n",
    "t_df = doid_df.rename(columns={'doid': 'target_id', 'name': 'target_name'})\n",
    "rw_df = s_df.merge(t_df.merge(rw_df))"
   ]
  },
  {
   "cell_type": "code",
   "execution_count": 7,
   "metadata": {
    "collapsed": false
   },
   "outputs": [],
   "source": [
    "# Sort by disease_name and proximity\n",
    "rw_df = rw_df.sort(['source_name', 'proximity'], ascending=[True, False])\n",
    "# Save as a tsv\n",
    "rw_df.to_csv('data/proximities.tsv', sep='\\t', index=False, float_format='%.6f')"
   ]
  },
  {
   "cell_type": "code",
   "execution_count": 8,
   "metadata": {
    "collapsed": false
   },
   "outputs": [
    {
     "data": {
      "text/html": [
       "<div>\n",
       "<table border=\"1\" class=\"dataframe\">\n",
       "  <thead>\n",
       "    <tr style=\"text-align: right;\">\n",
       "      <th></th>\n",
       "      <th>source_id</th>\n",
       "      <th>source_name</th>\n",
       "      <th>target_id</th>\n",
       "      <th>target_name</th>\n",
       "      <th>proximity</th>\n",
       "    </tr>\n",
       "  </thead>\n",
       "  <tbody>\n",
       "    <tr>\n",
       "      <th>1411</th>\n",
       "      <td>DOID:2377</td>\n",
       "      <td>multiple sclerosis</td>\n",
       "      <td>DOID:10608</td>\n",
       "      <td>celiac disease</td>\n",
       "      <td>0.056865</td>\n",
       "    </tr>\n",
       "    <tr>\n",
       "      <th>1454</th>\n",
       "      <td>DOID:2377</td>\n",
       "      <td>multiple sclerosis</td>\n",
       "      <td>DOID:2841</td>\n",
       "      <td>asthma</td>\n",
       "      <td>0.055679</td>\n",
       "    </tr>\n",
       "    <tr>\n",
       "      <th>1385</th>\n",
       "      <td>DOID:2377</td>\n",
       "      <td>multiple sclerosis</td>\n",
       "      <td>DOID:8778</td>\n",
       "      <td>Crohn's disease</td>\n",
       "      <td>0.051225</td>\n",
       "    </tr>\n",
       "    <tr>\n",
       "      <th>1457</th>\n",
       "      <td>DOID:2377</td>\n",
       "      <td>multiple sclerosis</td>\n",
       "      <td>DOID:9744</td>\n",
       "      <td>type 1 diabetes mellitus</td>\n",
       "      <td>0.049571</td>\n",
       "    </tr>\n",
       "    <tr>\n",
       "      <th>1404</th>\n",
       "      <td>DOID:2377</td>\n",
       "      <td>multiple sclerosis</td>\n",
       "      <td>DOID:8577</td>\n",
       "      <td>ulcerative colitis</td>\n",
       "      <td>0.046035</td>\n",
       "    </tr>\n",
       "    <tr>\n",
       "      <th>1409</th>\n",
       "      <td>DOID:2377</td>\n",
       "      <td>multiple sclerosis</td>\n",
       "      <td>DOID:4481</td>\n",
       "      <td>allergic rhinitis</td>\n",
       "      <td>0.043658</td>\n",
       "    </tr>\n",
       "    <tr>\n",
       "      <th>1395</th>\n",
       "      <td>DOID:2377</td>\n",
       "      <td>multiple sclerosis</td>\n",
       "      <td>DOID:7148</td>\n",
       "      <td>rheumatoid arthritis</td>\n",
       "      <td>0.042828</td>\n",
       "    </tr>\n",
       "    <tr>\n",
       "      <th>1407</th>\n",
       "      <td>DOID:2377</td>\n",
       "      <td>multiple sclerosis</td>\n",
       "      <td>DOID:12236</td>\n",
       "      <td>primary biliary cirrhosis</td>\n",
       "      <td>0.041600</td>\n",
       "    </tr>\n",
       "    <tr>\n",
       "      <th>1452</th>\n",
       "      <td>DOID:2377</td>\n",
       "      <td>multiple sclerosis</td>\n",
       "      <td>DOID:9074</td>\n",
       "      <td>systemic lupus erythematosus</td>\n",
       "      <td>0.034554</td>\n",
       "    </tr>\n",
       "    <tr>\n",
       "      <th>1423</th>\n",
       "      <td>DOID:2377</td>\n",
       "      <td>multiple sclerosis</td>\n",
       "      <td>DOID:8893</td>\n",
       "      <td>psoriasis</td>\n",
       "      <td>0.031861</td>\n",
       "    </tr>\n",
       "    <tr>\n",
       "      <th>1394</th>\n",
       "      <td>DOID:2377</td>\n",
       "      <td>multiple sclerosis</td>\n",
       "      <td>DOID:7147</td>\n",
       "      <td>ankylosing spondylitis</td>\n",
       "      <td>0.031578</td>\n",
       "    </tr>\n",
       "    <tr>\n",
       "      <th>1402</th>\n",
       "      <td>DOID:2377</td>\n",
       "      <td>multiple sclerosis</td>\n",
       "      <td>DOID:12306</td>\n",
       "      <td>vitiligo</td>\n",
       "      <td>0.029313</td>\n",
       "    </tr>\n",
       "    <tr>\n",
       "      <th>1417</th>\n",
       "      <td>DOID:2377</td>\n",
       "      <td>multiple sclerosis</td>\n",
       "      <td>DOID:2986</td>\n",
       "      <td>IgA glomerulonephritis</td>\n",
       "      <td>0.026051</td>\n",
       "    </tr>\n",
       "    <tr>\n",
       "      <th>1456</th>\n",
       "      <td>DOID:2377</td>\n",
       "      <td>multiple sclerosis</td>\n",
       "      <td>DOID:3905</td>\n",
       "      <td>lung carcinoma</td>\n",
       "      <td>0.025534</td>\n",
       "    </tr>\n",
       "    <tr>\n",
       "      <th>1391</th>\n",
       "      <td>DOID:2377</td>\n",
       "      <td>multiple sclerosis</td>\n",
       "      <td>DOID:1040</td>\n",
       "      <td>chronic lymphocytic leukemia</td>\n",
       "      <td>0.025411</td>\n",
       "    </tr>\n",
       "  </tbody>\n",
       "</table>\n",
       "</div>"
      ],
      "text/plain": [
       "      source_id         source_name   target_id                   target_name  \\\n",
       "1411  DOID:2377  multiple sclerosis  DOID:10608                celiac disease   \n",
       "1454  DOID:2377  multiple sclerosis   DOID:2841                        asthma   \n",
       "1385  DOID:2377  multiple sclerosis   DOID:8778               Crohn's disease   \n",
       "1457  DOID:2377  multiple sclerosis   DOID:9744      type 1 diabetes mellitus   \n",
       "1404  DOID:2377  multiple sclerosis   DOID:8577            ulcerative colitis   \n",
       "1409  DOID:2377  multiple sclerosis   DOID:4481             allergic rhinitis   \n",
       "1395  DOID:2377  multiple sclerosis   DOID:7148          rheumatoid arthritis   \n",
       "1407  DOID:2377  multiple sclerosis  DOID:12236     primary biliary cirrhosis   \n",
       "1452  DOID:2377  multiple sclerosis   DOID:9074  systemic lupus erythematosus   \n",
       "1423  DOID:2377  multiple sclerosis   DOID:8893                     psoriasis   \n",
       "1394  DOID:2377  multiple sclerosis   DOID:7147        ankylosing spondylitis   \n",
       "1402  DOID:2377  multiple sclerosis  DOID:12306                      vitiligo   \n",
       "1417  DOID:2377  multiple sclerosis   DOID:2986        IgA glomerulonephritis   \n",
       "1456  DOID:2377  multiple sclerosis   DOID:3905                lung carcinoma   \n",
       "1391  DOID:2377  multiple sclerosis   DOID:1040  chronic lymphocytic leukemia   \n",
       "\n",
       "      proximity  \n",
       "1411   0.056865  \n",
       "1454   0.055679  \n",
       "1385   0.051225  \n",
       "1457   0.049571  \n",
       "1404   0.046035  \n",
       "1409   0.043658  \n",
       "1395   0.042828  \n",
       "1407   0.041600  \n",
       "1452   0.034554  \n",
       "1423   0.031861  \n",
       "1394   0.031578  \n",
       "1402   0.029313  \n",
       "1417   0.026051  \n",
       "1456   0.025534  \n",
       "1391   0.025411  "
      ]
     },
     "execution_count": 8,
     "metadata": {},
     "output_type": "execute_result"
    }
   ],
   "source": [
    "# Top MS proximities\n",
    "rw_df.query(\"source_name == 'multiple sclerosis'\").head(15)"
   ]
  }
 ],
 "metadata": {
  "kernelspec": {
   "display_name": "Python 3",
   "language": "python",
   "name": "python3"
  },
  "language_info": {
   "codemirror_mode": {
    "name": "ipython",
    "version": 3
   },
   "file_extension": ".py",
   "mimetype": "text/x-python",
   "name": "python",
   "nbconvert_exporter": "python",
   "pygments_lexer": "ipython3",
   "version": "3.4.3"
  }
 },
 "nbformat": 4,
 "nbformat_minor": 0
}
