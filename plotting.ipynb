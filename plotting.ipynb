{
 "cells": [
  {
   "cell_type": "code",
   "execution_count": null,
   "metadata": {
    "collapsed": false
   },
   "outputs": [],
   "source": [
    "library(readr)\n",
    "library(dplyr, warn=F)\n",
    "library(ggplot2)\n",
    "library(magrittr)"
   ]
  },
  {
   "cell_type": "code",
   "execution_count": null,
   "metadata": {
    "collapsed": false
   },
   "outputs": [],
   "source": [
    "cols = list(\n",
    "  cancer = '#F1A340',\n",
    "  hema = '#F7F7F7',\n",
    "  immune = '#998EC3',\n",
    "  ms = '#423869'\n",
    ")"
   ]
  },
  {
   "cell_type": "code",
   "execution_count": null,
   "metadata": {
    "collapsed": true
   },
   "outputs": [],
   "source": [
    "get_pval_df = function(grouped_df) {\n",
    "  grouped_df %>% dplyr::do(t.test(.$proximity ~ .$target_category) %$%\n",
    "    dplyr::data_frame(statistic, p.value)) %>%\n",
    "    dplyr::mutate(pval_str = sprintf(\"p%%~~%%%.2e\", p.value)) %>%\n",
    "    dplyr::mutate(pval_str = sub('e', '%*%10^', pval_str)) %>%\n",
    "    dplyr::mutate(x = Inf, y = Inf)\n",
    "}\n",
    "\n",
    "gg_base = function(gg) {\n",
    "    gg = gg + \n",
    "      ggplot2::theme_bw() + \n",
    "      ggplot2::theme(strip.background=ggplot2::element_rect(fill='#FEF2E2')) +\n",
    "      ggplot2::theme(plot.margin = grid::unit(c(2, 2, 2, 2), 'points'))\n",
    "    return(gg)\n",
    "}"
   ]
  },
  {
   "cell_type": "markdown",
   "metadata": {},
   "source": [
    "## Read proximity data"
   ]
  },
  {
   "cell_type": "code",
   "execution_count": null,
   "metadata": {
    "collapsed": false
   },
   "outputs": [],
   "source": [
    "prox_df = readr::read_tsv('data/proximities.tsv')\n",
    "cat_cols = list(\n",
    "  category = readr::col_factor(levels = \n",
    "    c('Autoimmune', \"multiple sclerosis\", \"Hodgkin's lymphoma\", 'Hematologic Cancer', 'Solid Cancer'))\n",
    ")\n",
    "cat_df = readr::read_tsv('input/doid-categories.tsv', col_types = cat_cols)\n",
    "\n",
    "prox_df = prox_df %>%\n",
    "  dplyr::left_join(\n",
    "    cat_df %>% dplyr::transmute(source_id = doid_code, source_category = category)\n",
    "  ) %>%\n",
    "  dplyr::left_join(\n",
    "    cat_df %>% dplyr::transmute(target_id = doid_code, target_category = category)\n",
    "  )\n",
    "\n",
    "head(prox_df)"
   ]
  },
  {
   "cell_type": "code",
   "execution_count": null,
   "metadata": {
    "collapsed": false
   },
   "outputs": [],
   "source": [
    "prox_df %>% filter(source_category=='Hematologic Cancer') %>% distinct(source_name)"
   ]
  },
  {
   "cell_type": "markdown",
   "metadata": {},
   "source": [
    "## pairwise-proximities.pdf"
   ]
  },
  {
   "cell_type": "code",
   "execution_count": null,
   "metadata": {
    "collapsed": false
   },
   "outputs": [],
   "source": [
    "plot_df = prox_df %>%\n",
    "  dplyr::filter(source_category %in% c('Solid Cancer', 'Hematologic Cancer', 'Autoimmune')) %>%\n",
    "  dplyr::filter(target_category %in% c('Solid Cancer', 'Autoimmune'))\n",
    "\n",
    "x_breaks = c(0, 0.02, 0.1, 0.2, 0.3)\n",
    "x_lim = range(plot_df$proximity)\n",
    "\n",
    "pval_df = plot_df %>%\n",
    "  dplyr::group_by(source_category) %>%\n",
    "  get_pval_df()\n",
    "\n",
    "density_plot = plot_df %>%\n",
    "  ggplot2::ggplot(aes(proximity, fill=target_category, color=target_category)) %>% gg_base +\n",
    "  ggplot2::geom_density(alpha=0.3, adjust=2) +\n",
    "  ggplot2::facet_grid(source_category ~ ., scales='free_y') +\n",
    "  ggplot2::scale_fill_manual(values = c(cols$immune, cols$cancer)) +\n",
    "  ggplot2::scale_color_manual(values = c(cols$immune, cols$cancer)) +\n",
    "  ggplot2::xlab('Proximity') + ggplot2::ylab('Density') +\n",
    "  ggplot2::guides(fill=guide_legend('Disease Type'), color=guide_legend('Disease Type')) +\n",
    "  ggplot2::geom_text(data=pval_df, aes(x=x, y=y, label=pval_str, fill=NULL, color=NULL), \n",
    "    parse=TRUE, hjust=1.12, vjust=1.2, size=4, show_guide=FALSE) +\n",
    "  ggplot2::theme(axis.text.y=element_blank(), axis.ticks.y=element_blank(), legend.position='top') +\n",
    "  ggplot2::scale_x_sqrt(breaks = x_breaks, limits=x_lim) +\n",
    "  ggplot2::scale_y_sqrt()\n",
    "\n",
    "'figure/pairwise-proximities.pdf' %>% ggplot2::ggsave(density_plot, width=5, height=5.15)\n",
    "'figure/pairwise-proximities.png' %>% ggplot2::ggsave(density_plot, width=5, height=5.15, dpi=300)\n",
    "density_plot"
   ]
  },
  {
   "cell_type": "markdown",
   "metadata": {},
   "source": [
    "## dotplot MS and HL"
   ]
  },
  {
   "cell_type": "code",
   "execution_count": null,
   "metadata": {
    "collapsed": false
   },
   "outputs": [],
   "source": [
    "plot_df = prox_df %>%\n",
    "  dplyr::filter(source_name %in% c('multiple sclerosis', \"Hodgkin's lymphoma\"))\n",
    "plot_df[plot_df$target_name == \"Hodgkin's lymphoma\", 'target_category'] <- \"Hodgkin's lymphoma\"\n",
    "plot_df %<>% dplyr::filter(target_category %in% c('Solid Cancer', \"Hodgkin's lymphoma\", 'multiple sclerosis', 'Autoimmune'))\n",
    "\n",
    "pval_df = plot_df %>%\n",
    "  dplyr::filter(target_category %in% c('Solid Cancer', 'Autoimmune')) %>%\n",
    "  dplyr::group_by(source_name) %>%\n",
    "  get_pval_df()\n",
    "\n",
    "# MS and HL dotplot\n",
    "plot_df[plot_df$target_name == \"multiple sclerosis\", 'target_category'] <- \"multiple sclerosis\"\n",
    "plot_df$source_name <- factor(plot_df$source_name, levels=c('multiple sclerosis', \"Hodgkin's lymphoma\"))\n",
    "pval_df$source_name <- factor(pval_df$source_name, levels=c('multiple sclerosis', \"Hodgkin's lymphoma\"))\n",
    "\n",
    "mshl_plot <- plot_df %>%\n",
    "  ggplot2::ggplot(aes(proximity, fill=target_category)) %>% gg_base +\n",
    "  ggplot2::geom_dotplot(stackgroups = TRUE, method='histodot', binwidth=0.02, dotsize=.85) + \n",
    "  ggplot2::facet_grid(source_name ~ ., scales='free_y') +\n",
    "  ggplot2::theme(axis.text.y=element_blank(), axis.ticks.y=element_blank(), legend.position='top') +\n",
    "  ggplot2::scale_fill_manual(values=c(cols$immune, cols$ms, cols$hema, cols$cancer)) +\n",
    "  ggplot2::xlab('Proximity') + ggplot2::ylab('Count') +\n",
    "  ggplot2::guides(fill=guide_legend('', nrow=2, byrow=TRUE)) +\n",
    "  ggplot2::geom_text(data=pval_df, aes(x=x, y=y, label=pval_str, fill=NULL, color=NULL), \n",
    "    parse=TRUE, hjust=1.12, vjust=1.2, size=4, show_guide=FALSE) +\n",
    "  ggplot2::scale_x_sqrt(breaks = x_breaks, limits=x_lim)\n",
    "\n",
    "'figure/ms-hl-dotplot.pdf' %>% ggplot2::ggsave(mshl_plot, width=5, height=4.1)\n",
    "'figure/ms-hl-dotplot.png' %>% ggplot2::ggsave(mshl_plot, width=5, height=4.1, dpi=300)\n",
    "mshl_plot"
   ]
  },
  {
   "cell_type": "markdown",
   "metadata": {},
   "source": [
    "## dotplot diseasome"
   ]
  },
  {
   "cell_type": "code",
   "execution_count": null,
   "metadata": {
    "collapsed": false
   },
   "outputs": [],
   "source": [
    "plot_df = prox_df %>%\n",
    "  dplyr::filter(source_category %in% c('Solid Cancer', 'Hematologic Cancer', 'Autoimmune')) %>%\n",
    "  dplyr::filter(target_category %in% c('Solid Cancer', 'Hematologic Cancer', 'Autoimmune'))\n",
    "\n",
    "plot_df[plot_df$target_name == \"Hodgkin's lymphoma\", 'target_category'] <- \"Hodgkin's lymphoma\"\n",
    "plot_df %<>%\n",
    "  dplyr::filter(target_category %in% c('Solid Cancer', \"Hodgkin's lymphoma\", 'Autoimmune', \"multiple sclerosis\"))\n",
    "\n",
    "pval_df = plot_df %>%\n",
    "  dplyr::filter(target_category %in% c('Solid Cancer', 'Autoimmune')) %>%\n",
    "  dplyr::group_by(source_name) %>%\n",
    "  get_pval_df()\n",
    "\n",
    "plot_df[plot_df$target_name == \"multiple sclerosis\", 'target_category'] <- \"multiple sclerosis\"\n",
    "\n",
    "prox_plot <- plot_df %>%\n",
    "  ggplot2::ggplot(aes(proximity, fill=target_category)) %>% gg_base +\n",
    "  ggplot2::geom_dotplot(stackgroups = TRUE, method='histodot', binwidth=0.02) + \n",
    "  ggplot2::facet_wrap(~ source_name, scales='free_y', ncol=3) +\n",
    "  ggplot2::theme(axis.text.y=element_blank(), axis.ticks.y=element_blank()) +\n",
    "  ggplot2::scale_fill_manual(values=c(cols$immune, cols$ms, cols$hema, cols$cancer)) +\n",
    "  ggplot2::xlab('Proximity') + ggplot2::ylab('Count') +\n",
    "  ggplot2::guides(fill=guide_legend('Disease:')) +\n",
    "  ggplot2::geom_text(data=pval_df, aes(x=x, y=y, label=pval_str, fill=NULL, color=NULL), \n",
    "    parse=TRUE, hjust=1.12, vjust=1.2, size=4, show_guide=FALSE) +\n",
    "  ggplot2::theme(legend.position='top') +\n",
    "  ggplot2::scale_x_sqrt(breaks = c(0, 0.02, 0.1, 0.2, 0.3))\n",
    "\n",
    "'figure/disease-proximities.pdf' %>% ggplot2::ggsave(prox_plot, width=7.5, height=18, limitsize=FALSE)\n",
    "'figure/disease-proximities.png' %>% ggplot2::ggsave(prox_plot, width=7.5, height=18, limitsize=FALSE, dpi=300)"
   ]
  }
 ],
 "metadata": {
  "kernelspec": {
   "display_name": "R",
   "language": "R",
   "name": "ir"
  },
  "language_info": {
   "codemirror_mode": "r",
   "file_extension": ".r",
   "mimetype": "text/x-r-source",
   "name": "R",
   "pygments_lexer": "r",
   "version": "3.2.1"
  }
 },
 "nbformat": 4,
 "nbformat_minor": 0
}
